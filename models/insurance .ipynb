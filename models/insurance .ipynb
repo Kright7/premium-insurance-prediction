{
 "cells": [
  {
   "cell_type": "code",
   "execution_count": null,
   "id": "5bbfc94c-ab81-437b-8df0-ad8f26a7d641",
   "metadata": {},
   "outputs": [],
   "source": [
    "import pandas as pd\n",
    "import numpy as np \n",
    "import matplotlib.pyplot as plt\n",
    "import seaborn as sns\n",
    "\n",
    "# run and show graph in the same shell\n",
    "# if not written, a new box will be opened\n",
    "%matplotlib inline"
   ]
  },
  {
   "cell_type": "code",
   "execution_count": null,
   "id": "4ed790b1-0233-4ccf-9884-66d9b6a5e125",
   "metadata": {},
   "outputs": [],
   "source": [
    "# load the dataset \n",
    "\n",
    "df = pd.read_csv(\"insurance.csv\")"
   ]
  },
  {
   "cell_type": "code",
   "execution_count": null,
   "id": "0bd11c0e-3d79-4e8e-8337-949c6a1066d3",
   "metadata": {},
   "outputs": [],
   "source": [
    "df.head()"
   ]
  },
  {
   "cell_type": "code",
   "execution_count": null,
   "id": "3b99b33f-f670-43ff-b423-8423af486d2a",
   "metadata": {},
   "outputs": [],
   "source": [
    "# missing value \n",
    "df.isnull().sum()"
   ]
  },
  {
   "cell_type": "code",
   "execution_count": null,
   "id": "9f1f15fe-fb5c-4458-a98c-407df3a5ea77",
   "metadata": {},
   "outputs": [],
   "source": [
    "# check duplicate and remove them \n",
    "df = df.drop_duplicates()"
   ]
  },
  {
   "cell_type": "code",
   "execution_count": null,
   "id": "55323aa4-f49c-49c9-ae4d-e16996b83284",
   "metadata": {},
   "outputs": [],
   "source": [
    "df.shape"
   ]
  },
  {
   "cell_type": "code",
   "execution_count": null,
   "id": "cd94c06e-1b8d-47bb-af9b-b0f576ca3dc4",
   "metadata": {},
   "outputs": [],
   "source": [
    "x_axis = ['age', 'bmi', 'children', 'expenses']\n",
    "for x in x_axis:\n",
    "    fig, axes = plt.subplots(1, 2, figsize=(18, 4))\n",
    "    \n",
    "    # Using histplot instead of the deprecated distplot\n",
    "    sns.histplot(df[x], ax=axes[0], bins=20)  # bins=20 for histogram customization\n",
    "    \n",
    "    # Boxplot remains the same\n",
    "    sns.boxplot(df[x], ax=axes[1], orient='h', showmeans=True, color='pink')"
   ]
  },
  {
   "cell_type": "markdown",
   "id": "7131078e-f42c-4357-83c9-53744a7a586d",
   "metadata": {},
   "source": [
    "### handle categorical columns "
   ]
  },
  {
   "cell_type": "code",
   "execution_count": null,
   "id": "750eed76-905d-45d7-b97c-1ea5886b5e7b",
   "metadata": {},
   "outputs": [],
   "source": [
    "df.head()"
   ]
  },
  {
   "cell_type": "code",
   "execution_count": null,
   "id": "ba925fe7-531c-44ad-89ce-73160554fd6e",
   "metadata": {},
   "outputs": [],
   "source": [
    "df.sex.unique()"
   ]
  },
  {
   "cell_type": "code",
   "execution_count": null,
   "id": "6e112be9-5ecb-4b07-bcb1-8ab411bc82f7",
   "metadata": {},
   "outputs": [],
   "source": [
    "df['sex'] = df.sex.map({'female':0, 'male':1})"
   ]
  },
  {
   "cell_type": "code",
   "execution_count": null,
   "id": "69c15915-faf9-4b4f-9da3-5e25c7ce1deb",
   "metadata": {},
   "outputs": [],
   "source": [
    "df.head()"
   ]
  },
  {
   "cell_type": "code",
   "execution_count": null,
   "id": "0b4d2483-2c3e-4e25-bc09-f3dbf7991056",
   "metadata": {},
   "outputs": [],
   "source": [
    "df.smoker.unique()"
   ]
  },
  {
   "cell_type": "code",
   "execution_count": null,
   "id": "1ab7fa8e-6ad8-4738-a370-ed95ebb4dfc5",
   "metadata": {},
   "outputs": [],
   "source": [
    "df['smoker'] = df.smoker.map({'yes':1, 'no':0})"
   ]
  },
  {
   "cell_type": "code",
   "execution_count": null,
   "id": "a85c3f85-42d0-4d76-acc0-3d699145bbd6",
   "metadata": {},
   "outputs": [],
   "source": [
    "df.head()"
   ]
  },
  {
   "cell_type": "code",
   "execution_count": null,
   "id": "04993297-b341-4c29-ab6d-544931bbd95f",
   "metadata": {},
   "outputs": [],
   "source": [
    "df.region.unique()"
   ]
  },
  {
   "cell_type": "code",
   "execution_count": null,
   "id": "8154dfdc-f95e-45dc-87a3-8bafc4ebbd9a",
   "metadata": {},
   "outputs": [],
   "source": [
    "df['region'] = df.region.map({'southwest':1,'southeast':2,'northwest':3,'northeast':4})"
   ]
  },
  {
   "cell_type": "code",
   "execution_count": null,
   "id": "bb3ccb94-8929-430d-b2fa-9471da319409",
   "metadata": {},
   "outputs": [],
   "source": [
    "df.head()"
   ]
  },
  {
   "cell_type": "code",
   "execution_count": null,
   "id": "2623ac70-30e0-48e7-a0d5-602ea707d145",
   "metadata": {},
   "outputs": [],
   "source": [
    "df.info()"
   ]
  },
  {
   "cell_type": "markdown",
   "id": "a2ce7e59-0c3f-4d70-b68e-be2221783277",
   "metadata": {},
   "source": [
    "### split the dataset in x and y "
   ]
  },
  {
   "cell_type": "code",
   "execution_count": null,
   "id": "19f042d5-784c-45fe-8463-47d6e3bfb8d0",
   "metadata": {},
   "outputs": [],
   "source": [
    "df.columns"
   ]
  },
  {
   "cell_type": "code",
   "execution_count": null,
   "id": "199f0d61-89a6-4e0f-aa05-4e58e51658c4",
   "metadata": {},
   "outputs": [],
   "source": [
    "x = df.drop(['expenses'], axis = 1 )"
   ]
  },
  {
   "cell_type": "code",
   "execution_count": null,
   "id": "3196896b-9e22-45ae-aa94-27a059341340",
   "metadata": {},
   "outputs": [],
   "source": [
    "x.head()"
   ]
  },
  {
   "cell_type": "code",
   "execution_count": null,
   "id": "87601136-49e6-423b-ad9d-d4ec73ecd64c",
   "metadata": {},
   "outputs": [],
   "source": [
    "y = df[['expenses']]"
   ]
  },
  {
   "cell_type": "code",
   "execution_count": null,
   "id": "8391afa4-19fd-4faf-baec-3e94ff898447",
   "metadata": {},
   "outputs": [],
   "source": [
    "y.head()"
   ]
  },
  {
   "cell_type": "markdown",
   "id": "ac06e5b5-df7e-4816-894c-28daca0793c5",
   "metadata": {},
   "source": [
    "### train test split "
   ]
  },
  {
   "cell_type": "code",
   "execution_count": null,
   "id": "074d5538-c654-429d-8120-d448aab57cf5",
   "metadata": {},
   "outputs": [],
   "source": [
    "from sklearn.model_selection import train_test_split"
   ]
  },
  {
   "cell_type": "code",
   "execution_count": null,
   "id": "755efad4-8bed-4754-ad9c-322adeb34181",
   "metadata": {},
   "outputs": [],
   "source": [
    "x_train, x_test, y_train, y_test = train_test_split(x,y,test_size=0.2, random_state=42)"
   ]
  },
  {
   "cell_type": "code",
   "execution_count": null,
   "id": "baa8368c-5f04-4c7b-a794-db3cf360d5fe",
   "metadata": {},
   "outputs": [],
   "source": [
    "x_train.shape"
   ]
  },
  {
   "cell_type": "code",
   "execution_count": null,
   "id": "9504456e-0c11-4077-ae65-3351afe6dc21",
   "metadata": {},
   "outputs": [],
   "source": [
    "x_test.shape"
   ]
  },
  {
   "cell_type": "markdown",
   "id": "f0cf46b1-61e3-4c46-aed0-ee9ece4d8385",
   "metadata": {},
   "source": [
    "#### Model training"
   ]
  },
  {
   "cell_type": "code",
   "execution_count": null,
   "id": "1485e4d8-fe15-4eae-925b-d3f6fa50a1a4",
   "metadata": {},
   "outputs": [],
   "source": [
    "# linear regression \n",
    "from sklearn.linear_model import LinearRegression"
   ]
  },
  {
   "cell_type": "code",
   "execution_count": null,
   "id": "a8fe6ae0-37ed-4ccd-96cb-5c6a2226504d",
   "metadata": {},
   "outputs": [],
   "source": [
    "lr=LinearRegression()"
   ]
  },
  {
   "cell_type": "code",
   "execution_count": null,
   "id": "5e7e25bf-d1e5-4760-8e2b-24c320f48e27",
   "metadata": {},
   "outputs": [],
   "source": [
    "lr.fit(x_train, y_train)"
   ]
  },
  {
   "cell_type": "code",
   "execution_count": null,
   "id": "09b54b02-c424-41b4-b591-2a3b364d8afe",
   "metadata": {},
   "outputs": [],
   "source": [
    "y_pred = lr.predict(x_test)"
   ]
  },
  {
   "cell_type": "code",
   "execution_count": null,
   "id": "566839fc-19ca-4a1e-b3ef-8303c5b988e5",
   "metadata": {},
   "outputs": [],
   "source": [
    "from sklearn.metrics import r2_score\n",
    "score1 = r2_score(y_test, y_pred)"
   ]
  },
  {
   "cell_type": "code",
   "execution_count": null,
   "id": "f6a8eb4d-ebfc-430b-a3df-c2dee7e3c53f",
   "metadata": {},
   "outputs": [],
   "source": [
    "score1"
   ]
  },
  {
   "cell_type": "markdown",
   "id": "93445216-c545-4025-ba53-77ff6a43efed",
   "metadata": {},
   "source": [
    "### support vector regression "
   ]
  },
  {
   "cell_type": "code",
   "execution_count": null,
   "id": "436ca97c-27e4-47a3-8141-6d786ef53c52",
   "metadata": {},
   "outputs": [],
   "source": [
    "from sklearn.svm import SVR"
   ]
  },
  {
   "cell_type": "code",
   "execution_count": null,
   "id": "374c0cb3-3f5d-47b1-b07a-48e141c3d3f9",
   "metadata": {},
   "outputs": [],
   "source": [
    "svm = SVR()"
   ]
  },
  {
   "cell_type": "code",
   "execution_count": null,
   "id": "77ae0e8f-f997-44b8-88bf-fbb18b5d93c5",
   "metadata": {},
   "outputs": [],
   "source": [
    "svm.fit(x_train, y_train)"
   ]
  },
  {
   "cell_type": "code",
   "execution_count": null,
   "id": "ffaacd2d-43f5-4668-8dfe-650805332062",
   "metadata": {},
   "outputs": [],
   "source": [
    "y_pred = svm.predict(x_test)\n",
    "from sklearn.metrics import r2_score\n",
    "score1 = r2_score(y_test, y_pred)"
   ]
  },
  {
   "cell_type": "code",
   "execution_count": null,
   "id": "8b8fdf30-8279-4a24-8eb1-fc9c370f679c",
   "metadata": {},
   "outputs": [],
   "source": [
    "score1"
   ]
  },
  {
   "cell_type": "markdown",
   "id": "16d14cda-1b4c-40dd-8f15-e14fcf97a729",
   "metadata": {},
   "source": [
    "### random forest regression "
   ]
  },
  {
   "cell_type": "code",
   "execution_count": null,
   "id": "fd7fa5b3-8760-4054-8e22-9ab8b4e8f4f8",
   "metadata": {},
   "outputs": [],
   "source": [
    "from sklearn.ensemble import RandomForestRegressor\n",
    "rf = RandomForestRegressor()"
   ]
  },
  {
   "cell_type": "code",
   "execution_count": null,
   "id": "76f35074-a2c1-4f8e-940e-b14baff655a1",
   "metadata": {},
   "outputs": [],
   "source": [
    "rf.fit(x_train, y_train)"
   ]
  },
  {
   "cell_type": "code",
   "execution_count": null,
   "id": "fa08bdb8-f5d7-4048-be42-bce1a23ff479",
   "metadata": {},
   "outputs": [],
   "source": [
    "y_pred3 = rf.predict(x_test)\n",
    "score3 = r2_score(y_test, y_pred3)"
   ]
  },
  {
   "cell_type": "code",
   "execution_count": null,
   "id": "6b64074d-09e2-4f06-b070-cf8f785c773c",
   "metadata": {},
   "outputs": [],
   "source": [
    "score3"
   ]
  },
  {
   "cell_type": "markdown",
   "id": "11c344ce-b733-4191-90c7-ec48d1470726",
   "metadata": {},
   "source": [
    "### final model is random forest regressor"
   ]
  },
  {
   "cell_type": "code",
   "execution_count": null,
   "id": "b2c21905-a51b-4776-8694-27e2606fed65",
   "metadata": {},
   "outputs": [],
   "source": [
    "rf.fit(x_train, y_train)"
   ]
  },
  {
   "cell_type": "markdown",
   "id": "e60e972b-36f6-4c3a-906d-b7d7c5ef42ae",
   "metadata": {},
   "source": [
    "# predict charges in new customer "
   ]
  },
  {
   "cell_type": "code",
   "execution_count": null,
   "id": "44faeb8f-261f-4f2f-8613-2cf36e88ab5e",
   "metadata": {},
   "outputs": [],
   "source": [
    "data = {\n",
    "    'age':40,\n",
    "    'sex':1,\n",
    "    'bmi':40,\n",
    "    'children':3,\n",
    "    'smoker':1,\n",
    "    'region':2\n",
    "}\n",
    "new_df = pd.DataFrame(data,index=[0])\n",
    "new_df"
   ]
  },
  {
   "cell_type": "code",
   "execution_count": null,
   "id": "54ed549f-624c-4224-898d-25cb9b20f237",
   "metadata": {},
   "outputs": [],
   "source": [
    "pred = rf.predict(new_df)\n",
    "pred[0]"
   ]
  },
  {
   "cell_type": "code",
   "execution_count": null,
   "id": "48d82578-c76d-4418-b066-625dde1468fd",
   "metadata": {},
   "outputs": [],
   "source": [
    "data2 = {\n",
    "    'age':19,\n",
    "    'sex':0,\n",
    "    'bmi':27.9,\n",
    "    'children':0,\n",
    "    'smoker':1,\n",
    "    'region':1\n",
    "}\n",
    "new_df = pd.DataFrame(data2,index=[0])\n",
    "new_df"
   ]
  },
  {
   "cell_type": "code",
   "execution_count": null,
   "id": "ee8f0179-60db-472c-a719-72df3a320879",
   "metadata": {},
   "outputs": [],
   "source": [
    "pred = rf.predict(new_df)\n",
    "pred[0]"
   ]
  },
  {
   "cell_type": "markdown",
   "id": "40acaac8-249b-4519-b14d-2a00649eaff1",
   "metadata": {},
   "source": [
    "### save model "
   ]
  },
  {
   "cell_type": "code",
   "execution_count": null,
   "id": "823fe6bf-0335-4f1b-8447-139dd72db262",
   "metadata": {},
   "outputs": [],
   "source": [
    "import joblib\n",
    "joblib.dump(rf, 'random_forest_regressor.pkl')"
   ]
  },
  {
   "cell_type": "code",
   "execution_count": null,
   "id": "5a0f1b11-e662-4135-bc50-84e5dc00ea4d",
   "metadata": {},
   "outputs": [],
   "source": []
  }
 ],
 "metadata": {
  "kernelspec": {
   "display_name": "Python 3 (ipykernel)",
   "language": "python",
   "name": "python3"
  },
  "language_info": {
   "codemirror_mode": {
    "name": "ipython",
    "version": 3
   },
   "file_extension": ".py",
   "mimetype": "text/x-python",
   "name": "python",
   "nbconvert_exporter": "python",
   "pygments_lexer": "ipython3",
   "version": "3.11.9"
  }
 },
 "nbformat": 4,
 "nbformat_minor": 5
}
